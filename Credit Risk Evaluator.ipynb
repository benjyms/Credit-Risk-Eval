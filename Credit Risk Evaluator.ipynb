{
 "cells": [
  {
   "cell_type": "code",
   "execution_count": 2,
   "metadata": {},
   "outputs": [],
   "source": [
    "import numpy as np\n",
    "import pandas as pd\n",
    "from pathlib import Path"
   ]
  },
  {
   "cell_type": "code",
   "execution_count": 3,
   "metadata": {},
   "outputs": [
    {
     "name": "stdout",
     "output_type": "stream",
     "text": [
      "<class 'pandas.core.frame.DataFrame'>\n",
      "RangeIndex: 12180 entries, 0 to 12179\n",
      "Data columns (total 86 columns):\n",
      " #   Column                      Non-Null Count  Dtype  \n",
      "---  ------                      --------------  -----  \n",
      " 0   Unnamed: 0                  12180 non-null  int64  \n",
      " 1   index                       12180 non-null  int64  \n",
      " 2   loan_amnt                   12180 non-null  float64\n",
      " 3   int_rate                    12180 non-null  float64\n",
      " 4   installment                 12180 non-null  float64\n",
      " 5   home_ownership              12180 non-null  object \n",
      " 6   annual_inc                  12180 non-null  float64\n",
      " 7   verification_status         12180 non-null  object \n",
      " 8   loan_status                 12180 non-null  object \n",
      " 9   pymnt_plan                  12180 non-null  object \n",
      " 10  dti                         12180 non-null  float64\n",
      " 11  delinq_2yrs                 12180 non-null  float64\n",
      " 12  inq_last_6mths              12180 non-null  float64\n",
      " 13  open_acc                    12180 non-null  float64\n",
      " 14  pub_rec                     12180 non-null  float64\n",
      " 15  revol_bal                   12180 non-null  float64\n",
      " 16  total_acc                   12180 non-null  float64\n",
      " 17  initial_list_status         12180 non-null  object \n",
      " 18  out_prncp                   12180 non-null  float64\n",
      " 19  out_prncp_inv               12180 non-null  float64\n",
      " 20  total_pymnt                 12180 non-null  float64\n",
      " 21  total_pymnt_inv             12180 non-null  float64\n",
      " 22  total_rec_prncp             12180 non-null  float64\n",
      " 23  total_rec_int               12180 non-null  float64\n",
      " 24  total_rec_late_fee          12180 non-null  float64\n",
      " 25  recoveries                  12180 non-null  float64\n",
      " 26  collection_recovery_fee     12180 non-null  float64\n",
      " 27  last_pymnt_amnt             12180 non-null  float64\n",
      " 28  collections_12_mths_ex_med  12180 non-null  float64\n",
      " 29  policy_code                 12180 non-null  float64\n",
      " 30  application_type            12180 non-null  object \n",
      " 31  acc_now_delinq              12180 non-null  float64\n",
      " 32  tot_coll_amt                12180 non-null  float64\n",
      " 33  tot_cur_bal                 12180 non-null  float64\n",
      " 34  open_acc_6m                 12180 non-null  float64\n",
      " 35  open_act_il                 12180 non-null  float64\n",
      " 36  open_il_12m                 12180 non-null  float64\n",
      " 37  open_il_24m                 12180 non-null  float64\n",
      " 38  mths_since_rcnt_il          12180 non-null  float64\n",
      " 39  total_bal_il                12180 non-null  float64\n",
      " 40  il_util                     12180 non-null  float64\n",
      " 41  open_rv_12m                 12180 non-null  float64\n",
      " 42  open_rv_24m                 12180 non-null  float64\n",
      " 43  max_bal_bc                  12180 non-null  float64\n",
      " 44  all_util                    12180 non-null  float64\n",
      " 45  total_rev_hi_lim            12180 non-null  float64\n",
      " 46  inq_fi                      12180 non-null  float64\n",
      " 47  total_cu_tl                 12180 non-null  float64\n",
      " 48  inq_last_12m                12180 non-null  float64\n",
      " 49  acc_open_past_24mths        12180 non-null  float64\n",
      " 50  avg_cur_bal                 12180 non-null  float64\n",
      " 51  bc_open_to_buy              12180 non-null  float64\n",
      " 52  bc_util                     12180 non-null  float64\n",
      " 53  chargeoff_within_12_mths    12180 non-null  float64\n",
      " 54  delinq_amnt                 12180 non-null  float64\n",
      " 55  mo_sin_old_il_acct          12180 non-null  float64\n",
      " 56  mo_sin_old_rev_tl_op        12180 non-null  float64\n",
      " 57  mo_sin_rcnt_rev_tl_op       12180 non-null  float64\n",
      " 58  mo_sin_rcnt_tl              12180 non-null  float64\n",
      " 59  mort_acc                    12180 non-null  float64\n",
      " 60  mths_since_recent_bc        12180 non-null  float64\n",
      " 61  mths_since_recent_inq       12180 non-null  float64\n",
      " 62  num_accts_ever_120_pd       12180 non-null  float64\n",
      " 63  num_actv_bc_tl              12180 non-null  float64\n",
      " 64  num_actv_rev_tl             12180 non-null  float64\n",
      " 65  num_bc_sats                 12180 non-null  float64\n",
      " 66  num_bc_tl                   12180 non-null  float64\n",
      " 67  num_il_tl                   12180 non-null  float64\n",
      " 68  num_op_rev_tl               12180 non-null  float64\n",
      " 69  num_rev_accts               12180 non-null  float64\n",
      " 70  num_rev_tl_bal_gt_0         12180 non-null  float64\n",
      " 71  num_sats                    12180 non-null  float64\n",
      " 72  num_tl_120dpd_2m            12180 non-null  float64\n",
      " 73  num_tl_30dpd                12180 non-null  float64\n",
      " 74  num_tl_90g_dpd_24m          12180 non-null  float64\n",
      " 75  num_tl_op_past_12m          12180 non-null  float64\n",
      " 76  pct_tl_nvr_dlq              12180 non-null  float64\n",
      " 77  percent_bc_gt_75            12180 non-null  float64\n",
      " 78  pub_rec_bankruptcies        12180 non-null  float64\n",
      " 79  tax_liens                   12180 non-null  float64\n",
      " 80  tot_hi_cred_lim             12180 non-null  float64\n",
      " 81  total_bal_ex_mort           12180 non-null  float64\n",
      " 82  total_bc_limit              12180 non-null  float64\n",
      " 83  total_il_high_credit_limit  12180 non-null  float64\n",
      " 84  hardship_flag               12180 non-null  object \n",
      " 85  debt_settlement_flag        12180 non-null  object \n",
      "dtypes: float64(76), int64(2), object(8)\n",
      "memory usage: 8.0+ MB\n"
     ]
    }
   ],
   "source": [
    "train_df = pd.read_csv(Path('Resources/2019loans.csv'))\n",
    "test_df = pd.read_csv(Path('Resources/2020Q1loans.csv'))\n",
    "train_df.info()"
   ]
  },
  {
   "cell_type": "code",
   "execution_count": 4,
   "metadata": {},
   "outputs": [],
   "source": [
    "# import additional libraries\n",
    "import seaborn as sns\n",
    "import matplotlib.pyplot as plt\n",
    "from sklearn.preprocessing import StandardScaler, LabelEncoder"
   ]
  },
  {
   "cell_type": "code",
   "execution_count": null,
   "metadata": {},
   "outputs": [],
   "source": [
    "# Convert categorical data to numeric and separate target feature for training data"
   ]
  },
  {
   "cell_type": "code",
   "execution_count": null,
   "metadata": {},
   "outputs": [],
   "source": [
    "# Convert categorical data to numeric and separate target feature for testing data"
   ]
  },
  {
   "cell_type": "code",
   "execution_count": null,
   "metadata": {},
   "outputs": [],
   "source": [
    "# add missing dummy variables to testing set"
   ]
  },
  {
   "cell_type": "code",
   "execution_count": null,
   "metadata": {},
   "outputs": [],
   "source": [
    "# Train the Logistic Regression model on the unscaled data and print the model score"
   ]
  },
  {
   "cell_type": "code",
   "execution_count": null,
   "metadata": {},
   "outputs": [],
   "source": [
    "# Train a Random Forest Classifier model and print the model score"
   ]
  },
  {
   "cell_type": "code",
   "execution_count": null,
   "metadata": {},
   "outputs": [],
   "source": [
    "# Scale the data"
   ]
  },
  {
   "cell_type": "code",
   "execution_count": null,
   "metadata": {},
   "outputs": [],
   "source": [
    "# Train the Logistic Regression model on the scaled data and print the model score"
   ]
  },
  {
   "cell_type": "code",
   "execution_count": null,
   "metadata": {},
   "outputs": [],
   "source": [
    "# Train a Random Forest Classifier model on the scaled data and print the model score"
   ]
  }
 ],
 "metadata": {
  "kernelspec": {
   "display_name": "Python 3",
   "language": "python",
   "name": "python3"
  },
  "language_info": {
   "codemirror_mode": {
    "name": "ipython",
    "version": 3
   },
   "file_extension": ".py",
   "mimetype": "text/x-python",
   "name": "python",
   "nbconvert_exporter": "python",
   "pygments_lexer": "ipython3",
   "version": "3.8.8"
  }
 },
 "nbformat": 4,
 "nbformat_minor": 4
}
